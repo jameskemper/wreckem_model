{
 "cells": [
  {
   "cell_type": "code",
   "execution_count": 1,
   "id": "d84ee4ab-7cd6-46f0-9815-1b59e077efa9",
   "metadata": {},
   "outputs": [],
   "source": [
    "# Import libraries\n",
    "import requests\n",
    "from bs4 import BeautifulSoup\n",
    "import pandas as pd\n",
    "from datetime import datetime"
   ]
  },
  {
   "cell_type": "code",
   "execution_count": 7,
   "id": "d96c3d7d-c3a2-42f8-9e6f-ef2cf2cd58e1",
   "metadata": {},
   "outputs": [],
   "source": [
    "# Path for CSV file\n",
    "url = \"https://www.sbnation.com/college-basketball/2024/3/13/24098869/march-madness-schedule-mens-2024-ncaa-tournament-dates-locations\""
   ]
  },
  {
   "cell_type": "code",
   "execution_count": 8,
   "id": "f491f3d6-fce2-473a-ba39-f1b6c060951d",
   "metadata": {},
   "outputs": [],
   "source": [
    "# Scrape the page content\n",
    "response = requests.get(url)\n",
    "content = response.content"
   ]
  },
  {
   "cell_type": "code",
   "execution_count": 9,
   "id": "0027a211-8d6e-45fd-9115-2623ee09eb75",
   "metadata": {},
   "outputs": [],
   "source": [
    "# Parse the HTML content\n",
    "soup = BeautifulSoup(content, 'html.parser')"
   ]
  },
  {
   "cell_type": "code",
   "execution_count": 13,
   "id": "6ae11a40-e8c2-4878-ba9a-f5c14882e61c",
   "metadata": {},
   "outputs": [],
   "source": [
    "# Create marker identifier for games\n",
    "schedule_marker_text = \"Here is the complete schedule for March Madness 2024:\"\n",
    "schedule_marker = soup.find(string=schedule_marker_text)"
   ]
  },
  {
   "cell_type": "code",
   "execution_count": 14,
   "id": "16a32b30-eed9-4787-9a2a-b46786c83ad5",
   "metadata": {},
   "outputs": [],
   "source": [
    "# ICreate an empty list to hold the data\n",
    "data = []"
   ]
  },
  {
   "cell_type": "code",
   "execution_count": 15,
   "id": "65532c44-aa82-4ccf-b03d-171ca1f1f18e",
   "metadata": {},
   "outputs": [],
   "source": [
    "# Create current date variable (placeholder)\n",
    "current_date = None"
   ]
  },
  {
   "cell_type": "code",
   "execution_count": 16,
   "id": "68ab4bf9-3266-459c-a610-b3a43d2de343",
   "metadata": {},
   "outputs": [],
   "source": [
    "# Scrape text from the page and clean\n",
    "if schedule_marker:\n",
    "    for element in schedule_marker.find_next_siblings():\n",
    "        if element.name in ['h2', 'h3', 'h4']: \n",
    "            current_date = element.text.strip()\n",
    "        elif element.name == 'p':  # Assuming game info is in html <p> tags\n",
    "            text = element.get_text(strip=True)\n",
    "            if 'vs.' in text or any(char.isdigit() for char in text):  # Check for game information\n",
    "                if 'vs.' in text:\n",
    "                    parts = text.split('vs.')\n",
    "                    team1 = parts[0].strip()\n",
    "                    team2 = parts[1].split(' ')[0].strip()  # Assuming the time is after the second team\n",
    "                else:\n",
    "                    parts = text.split(',')\n",
    "                    team1 = parts[0].rsplit(' ', 1)[0].strip()  # Remove the score\n",
    "                    team2 = parts[1].split(' ', 2)[1].strip()  # Remove the score and OT if present\n",
    "                # Append the data\n",
    "                data.append({'date': current_date, 'team1': team1, 'team2': team2})\n",
    "else:\n",
    "    print(\"Schedule marker text not found.\")\n",
    "    "
   ]
  },
  {
   "cell_type": "code",
   "execution_count": 17,
   "id": "5fe5ef5a-b5bf-4dad-af7d-fb427af684e3",
   "metadata": {},
   "outputs": [],
   "source": [
    "# Convert the list of text into a pandas DataFrame\n",
    "df = pd.DataFrame(data)"
   ]
  },
  {
   "cell_type": "code",
   "execution_count": 18,
   "id": "78ad20d1-b959-4daf-9ec6-351a3704966b",
   "metadata": {},
   "outputs": [
    {
     "name": "stdout",
     "output_type": "stream",
     "text": [
      "Empty DataFrame\n",
      "Columns: []\n",
      "Index: []\n"
     ]
    }
   ],
   "source": [
    "# Display the DataFrame\n",
    "print(df.head())"
   ]
  },
  {
   "cell_type": "code",
   "execution_count": 22,
   "id": "c6cd5fb6-b527-4ca7-8803-69345f1874ca",
   "metadata": {},
   "outputs": [],
   "source": [
    "# Export the DataFrame to a CSV file\n",
    "df.to_csv('basketball_games_schedule.csv', index=False)\n",
    "    "
   ]
  },
  {
   "cell_type": "code",
   "execution_count": null,
   "id": "897f5e5e-4d62-46fd-8258-d7e564142a2c",
   "metadata": {},
   "outputs": [],
   "source": []
  }
 ],
 "metadata": {
  "kernelspec": {
   "display_name": "Python 3 (ipykernel)",
   "language": "python",
   "name": "python3"
  },
  "language_info": {
   "codemirror_mode": {
    "name": "ipython",
    "version": 3
   },
   "file_extension": ".py",
   "mimetype": "text/x-python",
   "name": "python",
   "nbconvert_exporter": "python",
   "pygments_lexer": "ipython3",
   "version": "3.12.2"
  }
 },
 "nbformat": 4,
 "nbformat_minor": 5
}
