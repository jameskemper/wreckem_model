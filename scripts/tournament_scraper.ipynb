{
 "cells": [
  {
   "cell_type": "code",
   "execution_count": 556,
   "id": "d84ee4ab-7cd6-46f0-9815-1b59e077efa9",
   "metadata": {},
   "outputs": [
    {
     "name": "stdout",
     "output_type": "stream",
     "text": [
      "Schedule information saved to CSV file successfully.\n"
     ]
    }
   ],
   "source": [
    "import requests\n",
    "from bs4 import BeautifulSoup\n",
    "import pandas as pd\n",
    "import re\n",
    "import json\n",
    "\n",
    "# Function to fetch the schedule text from the webpage\n",
    "def fetch_schedule_text(url):\n",
    "    response = requests.get(url)\n",
    "    soup = BeautifulSoup(response.content, 'html.parser')\n",
    "    script_tag = soup.find('script', type='application/ld+json')\n",
    "    data = json.loads(script_tag.string)\n",
    "    return data[0]['articleBody']\n",
    "\n",
    "# Function to extract date, team names, and save them to a CSV file\n",
    "def extract_and_save_schedule_info(schedule_text, game_pattern1, game_pattern2, schedule_file_path):\n",
    "    # Find subheader containing the date\n",
    "    subheader = re.search(r'March\\s+(\\d+)', schedule_text).group(0)\n",
    "    \n",
    "    # Extract day\n",
    "    day = int(re.search(r'\\d+', subheader).group(0))\n",
    "    \n",
    "    # Extract date\n",
    "    date_str = f'March {day}, 2024'\n",
    "    date = pd.to_datetime(date_str, format='%B %d, %Y')\n",
    "    \n",
    "    # Extract team names\n",
    "    matches_team1 = game_pattern1.findall(schedule_text)\n",
    "    team1_data = [{'Date': date, 'Team1': match[0].strip()} for match in matches_team1]\n",
    "\n",
    "    matches_team2 = game_pattern2.findall(schedule_text)\n",
    "    team2_data = [{'Team2': match.strip()} for match in matches_team2]\n",
    "\n",
    "    # Combine team data\n",
    "    combined_data = [{**team1, **team2} for team1, team2 in zip(team1_data, team2_data)]\n",
    "\n",
    "    # Save schedule data to CSV\n",
    "    df_schedule = pd.DataFrame(combined_data)\n",
    "    df_schedule.to_csv(schedule_file_path, index=False, encoding='utf-8-sig')\n",
    "\n",
    "# URL of the webpage containing the schedule\n",
    "url = \"https://www.sbnation.com/college-basketball/2024/3/13/24098869/march-madness-schedule-mens-2024-ncaa-tournament-dates-locations\"\n",
    "\n",
    "# Define the regex pattern to match game information\n",
    "game_pattern1 = re.compile(r'No\\.\\s+\\d+\\s+([^\\d/]+?)\\s+vs\\.\\s+No\\.\\s+\\d+\\s+([^\\d/]+?)(?:\\s+\\d+:\\d+\\s+[ap]\\.m\\. ET)?', re.IGNORECASE)\n",
    "game_pattern2 = re.compile(r'vs\\. No\\.\\s+\\d+\\s+([^\\d]+?)\\s+\\d+', re.IGNORECASE)\n",
    "\n",
    "# Path where the CSV file will be saved\n",
    "schedule_file_path = r'C:\\Users\\jkemper\\OneDrive - Texas Tech University\\Git\\wreckem_model\\Data\\schedule.csv'\n",
    "\n",
    "# Fetching the schedule text from the webpage\n",
    "schedule_text = fetch_schedule_text(url)\n",
    "\n",
    "# Extracting date, team names, and saving them to a CSV file\n",
    "extract_and_save_schedule_info(schedule_text, game_pattern1, game_pattern2, schedule_file_path)\n",
    "\n",
    "print(\"Schedule information saved to CSV file successfully.\")\n"
   ]
  },
  {
   "cell_type": "code",
   "execution_count": null,
   "id": "301b80be-a174-46dd-aa04-88a3a7fe9283",
   "metadata": {},
   "outputs": [],
   "source": []
  },
  {
   "cell_type": "code",
   "execution_count": null,
   "id": "e4ceb73d-fc64-4d55-b202-be9ab05ba799",
   "metadata": {},
   "outputs": [],
   "source": []
  }
 ],
 "metadata": {
  "kernelspec": {
   "display_name": "Python 3 (ipykernel)",
   "language": "python",
   "name": "python3"
  },
  "language_info": {
   "codemirror_mode": {
    "name": "ipython",
    "version": 3
   },
   "file_extension": ".py",
   "mimetype": "text/x-python",
   "name": "python",
   "nbconvert_exporter": "python",
   "pygments_lexer": "ipython3",
   "version": "3.12.2"
  }
 },
 "nbformat": 4,
 "nbformat_minor": 5
}
